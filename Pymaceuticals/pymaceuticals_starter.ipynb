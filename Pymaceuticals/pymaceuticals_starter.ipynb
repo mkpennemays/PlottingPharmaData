{
 "cells": [
  {
   "cell_type": "markdown",
   "metadata": {},
   "source": [
    "## Observations and Insights "
   ]
  },
  {
   "cell_type": "markdown",
   "metadata": {},
   "source": []
  },
  {
   "cell_type": "code",
   "execution_count": 1,
   "metadata": {},
   "outputs": [
    {
     "name": "stdout",
     "output_type": "stream",
     "text": [
      "1893\n",
      "1883\n",
      "1883\n"
     ]
    },
    {
     "data": {
      "text/html": [
       "<div>\n",
       "<style scoped>\n",
       "    .dataframe tbody tr th:only-of-type {\n",
       "        vertical-align: middle;\n",
       "    }\n",
       "\n",
       "    .dataframe tbody tr th {\n",
       "        vertical-align: top;\n",
       "    }\n",
       "\n",
       "    .dataframe thead th {\n",
       "        text-align: right;\n",
       "    }\n",
       "</style>\n",
       "<table border=\"1\" class=\"dataframe\">\n",
       "  <thead>\n",
       "    <tr style=\"text-align: right;\">\n",
       "      <th></th>\n",
       "      <th>Mouse ID</th>\n",
       "      <th>Timepoint</th>\n",
       "      <th>Tumor Volume (mm3)</th>\n",
       "      <th>Metastatic Sites</th>\n",
       "      <th>Drug Regimen</th>\n",
       "      <th>Sex</th>\n",
       "      <th>Age_months</th>\n",
       "      <th>Weight (g)</th>\n",
       "    </tr>\n",
       "  </thead>\n",
       "  <tbody>\n",
       "    <tr>\n",
       "      <th>0</th>\n",
       "      <td>b128</td>\n",
       "      <td>0</td>\n",
       "      <td>45.000000</td>\n",
       "      <td>0</td>\n",
       "      <td>Capomulin</td>\n",
       "      <td>Female</td>\n",
       "      <td>9</td>\n",
       "      <td>22</td>\n",
       "    </tr>\n",
       "    <tr>\n",
       "      <th>1</th>\n",
       "      <td>b128</td>\n",
       "      <td>5</td>\n",
       "      <td>45.651331</td>\n",
       "      <td>0</td>\n",
       "      <td>Capomulin</td>\n",
       "      <td>Female</td>\n",
       "      <td>9</td>\n",
       "      <td>22</td>\n",
       "    </tr>\n",
       "    <tr>\n",
       "      <th>2</th>\n",
       "      <td>b128</td>\n",
       "      <td>10</td>\n",
       "      <td>43.270852</td>\n",
       "      <td>0</td>\n",
       "      <td>Capomulin</td>\n",
       "      <td>Female</td>\n",
       "      <td>9</td>\n",
       "      <td>22</td>\n",
       "    </tr>\n",
       "    <tr>\n",
       "      <th>3</th>\n",
       "      <td>b128</td>\n",
       "      <td>15</td>\n",
       "      <td>43.784893</td>\n",
       "      <td>0</td>\n",
       "      <td>Capomulin</td>\n",
       "      <td>Female</td>\n",
       "      <td>9</td>\n",
       "      <td>22</td>\n",
       "    </tr>\n",
       "    <tr>\n",
       "      <th>4</th>\n",
       "      <td>b128</td>\n",
       "      <td>20</td>\n",
       "      <td>42.731552</td>\n",
       "      <td>0</td>\n",
       "      <td>Capomulin</td>\n",
       "      <td>Female</td>\n",
       "      <td>9</td>\n",
       "      <td>22</td>\n",
       "    </tr>\n",
       "  </tbody>\n",
       "</table>\n",
       "</div>"
      ],
      "text/plain": [
       "  Mouse ID  Timepoint  Tumor Volume (mm3)  Metastatic Sites Drug Regimen  \\\n",
       "0     b128          0           45.000000                 0    Capomulin   \n",
       "1     b128          5           45.651331                 0    Capomulin   \n",
       "2     b128         10           43.270852                 0    Capomulin   \n",
       "3     b128         15           43.784893                 0    Capomulin   \n",
       "4     b128         20           42.731552                 0    Capomulin   \n",
       "\n",
       "      Sex  Age_months  Weight (g)  \n",
       "0  Female           9          22  \n",
       "1  Female           9          22  \n",
       "2  Female           9          22  \n",
       "3  Female           9          22  \n",
       "4  Female           9          22  "
      ]
     },
     "execution_count": 1,
     "metadata": {},
     "output_type": "execute_result"
    }
   ],
   "source": [
    "# Dependencies and Setup\n",
    "import matplotlib.pyplot as plt\n",
    "import pandas as pd\n",
    "import scipy.stats as st\n",
    "import numpy as np\n",
    "\n",
    "# Study data files\n",
    "mouse_metadata_path = \"data/Mouse_metadata.csv\"\n",
    "study_results_path = \"data/Study_results.csv\"\n",
    "\n",
    "# Read the mouse data and the study results\n",
    "mouse_metadata = pd.read_csv(mouse_metadata_path)\n",
    "study_results = pd.read_csv(study_results_path)\n",
    "print(study_results[\"Timepoint\"].count())\n",
    "\n",
    "study_results.drop_duplicates(subset =[\"Mouse ID\", \"Timepoint\"], \n",
    "                   keep = False, inplace = True) \n",
    "# Combine the data into a single dataset\n",
    "complete_study_data = pd.merge(study_results,mouse_metadata, on = \"Mouse ID\")\n",
    "# Display the data table for preview\n",
    "print(study_results[\"Timepoint\"].count())\n",
    "print(complete_study_data[\"Timepoint\"].count())\n",
    "complete_study_data.head()"
   ]
  },
  {
   "cell_type": "markdown",
   "metadata": {},
   "source": [
    "## Summary Statistics"
   ]
  },
  {
   "cell_type": "code",
   "execution_count": 2,
   "metadata": {},
   "outputs": [
    {
     "data": {
      "text/html": [
       "<div>\n",
       "<style scoped>\n",
       "    .dataframe tbody tr th:only-of-type {\n",
       "        vertical-align: middle;\n",
       "    }\n",
       "\n",
       "    .dataframe tbody tr th {\n",
       "        vertical-align: top;\n",
       "    }\n",
       "\n",
       "    .dataframe thead th {\n",
       "        text-align: right;\n",
       "    }\n",
       "</style>\n",
       "<table border=\"1\" class=\"dataframe\">\n",
       "  <thead>\n",
       "    <tr style=\"text-align: right;\">\n",
       "      <th></th>\n",
       "      <th>Drug Name</th>\n",
       "      <th>Mean Tumor Size</th>\n",
       "      <th>Median Tumor Size</th>\n",
       "      <th>Tumor Size SEM</th>\n",
       "      <th>Tumor Size Stddev</th>\n",
       "      <th>Tumor Size Variance</th>\n",
       "    </tr>\n",
       "  </thead>\n",
       "  <tbody>\n",
       "    <tr>\n",
       "      <th>0</th>\n",
       "      <td>Capomulin</td>\n",
       "      <td>40.675741</td>\n",
       "      <td>41.557809</td>\n",
       "      <td>0.329346</td>\n",
       "      <td>4.983904</td>\n",
       "      <td>24.839296</td>\n",
       "    </tr>\n",
       "    <tr>\n",
       "      <th>1</th>\n",
       "      <td>Ceftamin</td>\n",
       "      <td>52.591172</td>\n",
       "      <td>51.776157</td>\n",
       "      <td>0.469821</td>\n",
       "      <td>6.250556</td>\n",
       "      <td>39.069446</td>\n",
       "    </tr>\n",
       "    <tr>\n",
       "      <th>2</th>\n",
       "      <td>Infubinol</td>\n",
       "      <td>52.884795</td>\n",
       "      <td>51.820584</td>\n",
       "      <td>0.492236</td>\n",
       "      <td>6.548770</td>\n",
       "      <td>42.886388</td>\n",
       "    </tr>\n",
       "    <tr>\n",
       "      <th>3</th>\n",
       "      <td>Ketapril</td>\n",
       "      <td>55.235638</td>\n",
       "      <td>53.698743</td>\n",
       "      <td>0.603860</td>\n",
       "      <td>8.257659</td>\n",
       "      <td>68.188930</td>\n",
       "    </tr>\n",
       "    <tr>\n",
       "      <th>4</th>\n",
       "      <td>Naftisol</td>\n",
       "      <td>54.331565</td>\n",
       "      <td>52.509285</td>\n",
       "      <td>0.596466</td>\n",
       "      <td>8.112811</td>\n",
       "      <td>65.817708</td>\n",
       "    </tr>\n",
       "    <tr>\n",
       "      <th>5</th>\n",
       "      <td>Placebo</td>\n",
       "      <td>54.033581</td>\n",
       "      <td>52.288934</td>\n",
       "      <td>0.581331</td>\n",
       "      <td>7.799368</td>\n",
       "      <td>60.830138</td>\n",
       "    </tr>\n",
       "    <tr>\n",
       "      <th>6</th>\n",
       "      <td>Propriva</td>\n",
       "      <td>52.458254</td>\n",
       "      <td>50.854632</td>\n",
       "      <td>0.540135</td>\n",
       "      <td>6.615279</td>\n",
       "      <td>43.761912</td>\n",
       "    </tr>\n",
       "    <tr>\n",
       "      <th>7</th>\n",
       "      <td>Ramicane</td>\n",
       "      <td>40.216745</td>\n",
       "      <td>40.673236</td>\n",
       "      <td>0.320955</td>\n",
       "      <td>4.835669</td>\n",
       "      <td>23.383692</td>\n",
       "    </tr>\n",
       "    <tr>\n",
       "      <th>8</th>\n",
       "      <td>Stelasyn</td>\n",
       "      <td>54.233149</td>\n",
       "      <td>52.431737</td>\n",
       "      <td>0.573111</td>\n",
       "      <td>7.689090</td>\n",
       "      <td>59.122106</td>\n",
       "    </tr>\n",
       "    <tr>\n",
       "      <th>9</th>\n",
       "      <td>Zoniferol</td>\n",
       "      <td>53.236507</td>\n",
       "      <td>51.818479</td>\n",
       "      <td>0.516398</td>\n",
       "      <td>6.947423</td>\n",
       "      <td>48.266689</td>\n",
       "    </tr>\n",
       "  </tbody>\n",
       "</table>\n",
       "</div>"
      ],
      "text/plain": [
       "   Drug Name  Mean Tumor Size  Median Tumor Size  Tumor Size SEM  \\\n",
       "0  Capomulin        40.675741          41.557809        0.329346   \n",
       "1   Ceftamin        52.591172          51.776157        0.469821   \n",
       "2  Infubinol        52.884795          51.820584        0.492236   \n",
       "3   Ketapril        55.235638          53.698743        0.603860   \n",
       "4   Naftisol        54.331565          52.509285        0.596466   \n",
       "5    Placebo        54.033581          52.288934        0.581331   \n",
       "6   Propriva        52.458254          50.854632        0.540135   \n",
       "7   Ramicane        40.216745          40.673236        0.320955   \n",
       "8   Stelasyn        54.233149          52.431737        0.573111   \n",
       "9  Zoniferol        53.236507          51.818479        0.516398   \n",
       "\n",
       "   Tumor Size Stddev  Tumor Size Variance  \n",
       "0           4.983904            24.839296  \n",
       "1           6.250556            39.069446  \n",
       "2           6.548770            42.886388  \n",
       "3           8.257659            68.188930  \n",
       "4           8.112811            65.817708  \n",
       "5           7.799368            60.830138  \n",
       "6           6.615279            43.761912  \n",
       "7           4.835669            23.383692  \n",
       "8           7.689090            59.122106  \n",
       "9           6.947423            48.266689  "
      ]
     },
     "execution_count": 2,
     "metadata": {},
     "output_type": "execute_result"
    }
   ],
   "source": [
    "# Generate a summary statistics table of mean, median, variance, standard deviation, and SEM of the tumor volume for each regimen\n",
    "\n",
    "# Use groupby and summary statistical methods to calculate the following properties of each drug regimen: \n",
    "# mean, median, variance, standard deviation, and SEM of the tumor volume. \n",
    "# Assemble the resulting series into a single summary dataframe.\n",
    "#print(complete_study_data[\"Drug Regimen\"].value_counts())\n",
    "\n",
    "summary_statistics_df = pd.DataFrame()\n",
    "study_regimen_groups = complete_study_data.groupby(\"Drug Regimen\")\n",
    "#print(study_regimen_groups)\n",
    "\n",
    "for name,group in study_regimen_groups:\n",
    "#print(group[\"Tumor Volume (mm3)\"].mean())\n",
    "#print(group[\"Tumor Volume (mm3)\"].median())\n",
    "#print(np.var(group[\"Tumor Volume (mm3)\"]))\n",
    "#print(np.std(group[\"Tumor Volume (mm3)\"]))    \n",
    "    drug_data = {\"Drug Name\":name,\n",
    "                 \"Mean Tumor Size\":group[\"Tumor Volume (mm3)\"].mean(),\n",
    "                 \"Median Tumor Size\":group[\"Tumor Volume (mm3)\"].median(),\n",
    "                 \"Tumor Size Variance\":np.var(group[\"Tumor Volume (mm3)\"]),\n",
    "                 \"Tumor Size Stddev\":np.std(group[\"Tumor Volume (mm3)\"]),\n",
    "                 \"Tumor Size SEM\": st.sem(group[\"Tumor Volume (mm3)\"])\n",
    "                }\n",
    "    #print(drug_data)\n",
    "    summary_statistics_df = summary_statistics_df.append(drug_data,ignore_index = True)\n",
    "    \n",
    "summary_statistics_df"
   ]
  },
  {
   "cell_type": "code",
   "execution_count": 3,
   "metadata": {},
   "outputs": [],
   "source": [
    "# Using the aggregation method, produce the same summary statistics in a single line\n"
   ]
  },
  {
   "cell_type": "markdown",
   "metadata": {},
   "source": [
    "## Bar and Pie Charts"
   ]
  },
  {
   "cell_type": "code",
   "execution_count": 4,
   "metadata": {},
   "outputs": [
    {
     "data": {
      "text/plain": [
       "Capomulin    230\n",
       "Ramicane     228\n",
       "Ketapril     188\n",
       "Naftisol     186\n",
       "Zoniferol    182\n",
       "Stelasyn     181\n",
       "Placebo      181\n",
       "Infubinol    178\n",
       "Ceftamin     178\n",
       "Propriva     151\n",
       "Name: Drug Regimen, dtype: int64"
      ]
     },
     "execution_count": 4,
     "metadata": {},
     "output_type": "execute_result"
    }
   ],
   "source": [
    "# Generate a bar plot showing the total number of measurements taken on each drug regimen using pandas.\n",
    "\n",
    "complete_study_data[\"Drug Regimen\"].value_counts()"
   ]
  },
  {
   "cell_type": "code",
   "execution_count": 5,
   "metadata": {},
   "outputs": [
    {
     "data": {
      "image/png": "[encoded data removed]",
      "text/plain": [
       "<Figure size 432x288 with 1 Axes>"
      ]
     },
     "metadata": {
      "needs_background": "light"
     },
     "output_type": "display_data"
    }
   ],
   "source": [
    "# Generate a bar plot showing the total number of measurements taken on each drug regimen using pyplot.\n",
    "\n",
    "\n",
    "#complete_study_data[\"Drug Regimen\"].hist()\n",
    "p = plt.hist(complete_study_data[\"Drug Regimen\"])\n",
    "plt.xticks(rotation='vertical')\n",
    "\n",
    "plt.show()"
   ]
  },
  {
   "cell_type": "code",
   "execution_count": 6,
   "metadata": {},
   "outputs": [],
   "source": [
    "# Generate a pie plot showing the distribution of female versus male mice using pandas\n",
    "\n",
    "\n"
   ]
  },
  {
   "cell_type": "code",
   "execution_count": 7,
   "metadata": {},
   "outputs": [
    {
     "name": "stdout",
     "output_type": "stream",
     "text": [
      "Male      958\n",
      "Female    925\n",
      "Name: Sex, dtype: int64\n"
     ]
    },
    {
     "data": {
      "text/plain": [
       "(-1.1426809144740666,\n",
       " 1.1283557692373394,\n",
       " -1.1515133808585203,\n",
       " 1.1246207217938866)"
      ]
     },
     "execution_count": 7,
     "metadata": {},
     "output_type": "execute_result"
    },
    {
     "data": {
      "image/png": "[encoded data removed]",
      "text/plain": [
       "<Figure size 432x288 with 1 Axes>"
      ]
     },
     "metadata": {},
     "output_type": "display_data"
    }
   ],
   "source": [
    "# Generate a pie plot showing the distribution of female versus male mice using pyplot\n",
    "mouse_sex_counts = complete_study_data[\"Sex\"].value_counts()\n",
    "labels = mouse_sex_counts.keys()\n",
    "print(mouse_sex_counts)\n",
    "explode = (0.1, 0, 0, 0)\n",
    "colors = [\"cyan\",\"pink\"]\n",
    "explode = (.05,0)\n",
    "plt.pie(mouse_sex_counts,colors = colors, labels = labels, explode = explode,\n",
    "        autopct=\"%1.1f%%\", shadow=True, startangle=140)\n",
    "plt.axis(\"equal\")\n"
   ]
  },
  {
   "cell_type": "markdown",
   "metadata": {},
   "source": [
    "## Quartiles, Outliers and Boxplots"
   ]
  },
  {
   "cell_type": "code",
   "execution_count": 27,
   "metadata": {},
   "outputs": [
    {
     "data": {
      "text/plain": [
       "45.0    63\n",
       "30.0     9\n",
       "5.0      6\n",
       "0.0      4\n",
       "15.0     4\n",
       "35.0     4\n",
       "25.0     3\n",
       "20.0     3\n",
       "40.0     2\n",
       "10.0     2\n",
       "Name: Timepoint, dtype: int64"
      ]
     },
     "execution_count": 27,
     "metadata": {},
     "output_type": "execute_result"
    }
   ],
   "source": [
    "# Calculate the final tumor volume of each mouse across four of the treatment regimens:  \n",
    "# Capomulin, Ramicane, Infubinol, and Ceftamin\n",
    "promisingDrug_data = complete_study_data[complete_study_data[\"Drug Regimen\"].isin(['Capomulin', 'Ramicane', 'Infubinol','Ceftamin'])]\n",
    "complete_response_data_df = pd.DataFrame()\n",
    "Regimen_groups = promisingDrug_data.groupby(\"Drug Regimen\")\n",
    "for name,group in Regimen_groups:\n",
    "    #print(\">>>\" + name)\n",
    "    Mouse_groups = group.groupby(\"Mouse ID\")\n",
    "    for name,group in Mouse_groups:\n",
    "            #print(name)\n",
    "            #capture the max Timepoint for each mouse - some did not complete the study\n",
    "            #finalTumor size = tumor Vol where timepoint.max\n",
    "            maxTimepoint = group[\"Timepoint\"].max()\n",
    "            finalTumorSize = group.loc[group[\"Timepoint\"] == maxTimepoint,[\"Tumor Volume (mm3)\"]]\n",
    "            mouse_response_data = {\"Mouse ID\":name,\n",
    "                 \"Tumor Volume (mm3)\":finalTumorSize,\n",
    "                 \"Timepoint\":maxTimepoint,\n",
    "                 \"Drug Regimen\":group[\"Drug Regimen\"].iloc[0]\n",
    "                }  \n",
    "            #print(mouse_response_data)\n",
    "            complete_response_data_df = complete_response_data_df.append(mouse_response_data,ignore_index = True)    \n",
    "# Start by getting the last (greatest) timepoint for each mouse\n",
    "\n",
    "complete_response_data_df[\"Timepoint\"].value_counts()\n"
   ]
  },
  {
   "cell_type": "code",
   "execution_count": 9,
   "metadata": {},
   "outputs": [],
   "source": [
    "# Put treatments into a list for for loop (and later for plot labels)\n",
    "\n",
    "\n",
    "# Create empty list to fill with tumor vol data (for plotting)\n",
    "\n",
    "\n",
    "# Calculate the IQR and quantitatively determine if there are any potential outliers. \n",
    "\n",
    "    \n",
    "    # Locate the rows which contain mice on each drug and get the tumor volumes\n",
    "    \n",
    "    \n",
    "    # add subset \n",
    "    \n",
    "    \n",
    "    # Determine outliers using upper and lower bounds\n",
    "    "
   ]
  },
  {
   "cell_type": "code",
   "execution_count": 10,
   "metadata": {},
   "outputs": [],
   "source": [
    "# Generate a box plot of the final tumor volume of each mouse across four regimens of interest\n"
   ]
  },
  {
   "cell_type": "markdown",
   "metadata": {},
   "source": [
    "## Line and Scatter Plots"
   ]
  },
  {
   "cell_type": "code",
   "execution_count": 11,
   "metadata": {},
   "outputs": [],
   "source": [
    "# Generate a line plot of tumor volume vs. time point for a mouse treated with Capomulin\n"
   ]
  },
  {
   "cell_type": "code",
   "execution_count": 12,
   "metadata": {},
   "outputs": [],
   "source": [
    "# Generate a scatter plot of average tumor volume vs. mouse weight for the Capomulin regimen\n"
   ]
  },
  {
   "cell_type": "markdown",
   "metadata": {},
   "source": [
    "## Correlation and Regression"
   ]
  },
  {
   "cell_type": "code",
   "execution_count": 13,
   "metadata": {},
   "outputs": [],
   "source": [
    "# Calculate the correlation coefficient and linear regression model \n",
    "# for mouse weight and average tumor volume for the Capomulin regimen\n"
   ]
  },
  {
   "cell_type": "code",
   "execution_count": null,
   "metadata": {},
   "outputs": [],
   "source": []
  }
 ],
 "metadata": {
  "anaconda-cloud": {},
  "kernelspec": {
   "display_name": "Python 3",
   "language": "python",
   "name": "python3"
  },
  "language_info": {
   "codemirror_mode": {
    "name": "ipython",
    "version": 3
   },
   "file_extension": ".py",
   "mimetype": "text/x-python",
   "name": "python",
   "nbconvert_exporter": "python",
   "pygments_lexer": "ipython3",
   "version": "3.8.3"
  }
 },
 "nbformat": 4,
 "nbformat_minor": 4
}
