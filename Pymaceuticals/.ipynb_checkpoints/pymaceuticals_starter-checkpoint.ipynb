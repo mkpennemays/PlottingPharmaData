{
 "cells": [
  {
   "cell_type": "markdown",
   "metadata": {},
   "source": [
    "## Observations and Insights "
   ]
  },
  {
   "cell_type": "markdown",
   "metadata": {},
   "source": []
  },
  {
   "cell_type": "code",
   "execution_count": 1,
   "metadata": {},
   "outputs": [
    {
     "name": "stdout",
     "output_type": "stream",
     "text": [
      "1893\n",
      "1883\n",
      "1883\n"
     ]
    }
   ],
   "source": [
    "# Dependencies and Setup\n",
    "import matplotlib.pyplot as plt\n",
    "import pandas as pd\n",
    "import scipy.stats as st\n",
    "import numpy as np\n",
    "\n",
    "# Study data files\n",
    "mouse_metadata_path = \"data/Mouse_metadata.csv\"\n",
    "study_results_path = \"data/Study_results.csv\"\n",
    "\n",
    "# Read the mouse data and the study results\n",
    "mouse_metadata = pd.read_csv(mouse_metadata_path)\n",
    "study_results = pd.read_csv(study_results_path)\n",
    "print(study_results[\"Timepoint\"].count())\n",
    "\n",
    "study_results.drop_duplicates(subset =[\"Mouse ID\", \"Timepoint\"], \n",
    "                   keep = False, inplace = True) \n",
    "# Combine the data into a single dataset\n",
    "complete_study_data = pd.merge(study_results,mouse_metadata, on = \"Mouse ID\")\n",
    "# Display the data table for preview\n",
    "print(study_results[\"Timepoint\"].count())\n",
    "print(complete_study_data[\"Timepoint\"].count())\n",
    "#complete_study_data.head()"
   ]
  },
  {
   "cell_type": "markdown",
   "metadata": {},
   "source": [
    "## Summary Statistics"
   ]
  },
  {
   "cell_type": "code",
   "execution_count": 2,
   "metadata": {},
   "outputs": [
    {
     "data": {
      "text/html": [
       "<div>\n",
       "<style scoped>\n",
       "    .dataframe tbody tr th:only-of-type {\n",
       "        vertical-align: middle;\n",
       "    }\n",
       "\n",
       "    .dataframe tbody tr th {\n",
       "        vertical-align: top;\n",
       "    }\n",
       "\n",
       "    .dataframe thead th {\n",
       "        text-align: right;\n",
       "    }\n",
       "</style>\n",
       "<table border=\"1\" class=\"dataframe\">\n",
       "  <thead>\n",
       "    <tr style=\"text-align: right;\">\n",
       "      <th></th>\n",
       "      <th>Drug Name</th>\n",
       "      <th>Mean Tumor Size</th>\n",
       "      <th>Median Tumor Size</th>\n",
       "      <th>Tumor Size SEM</th>\n",
       "      <th>Tumor Size Stddev</th>\n",
       "      <th>Tumor Size Variance</th>\n",
       "    </tr>\n",
       "  </thead>\n",
       "  <tbody>\n",
       "    <tr>\n",
       "      <th>0</th>\n",
       "      <td>Capomulin</td>\n",
       "      <td>40.675741</td>\n",
       "      <td>41.557809</td>\n",
       "      <td>0.329346</td>\n",
       "      <td>4.983904</td>\n",
       "      <td>24.839296</td>\n",
       "    </tr>\n",
       "    <tr>\n",
       "      <th>1</th>\n",
       "      <td>Ceftamin</td>\n",
       "      <td>52.591172</td>\n",
       "      <td>51.776157</td>\n",
       "      <td>0.469821</td>\n",
       "      <td>6.250556</td>\n",
       "      <td>39.069446</td>\n",
       "    </tr>\n",
       "    <tr>\n",
       "      <th>2</th>\n",
       "      <td>Infubinol</td>\n",
       "      <td>52.884795</td>\n",
       "      <td>51.820584</td>\n",
       "      <td>0.492236</td>\n",
       "      <td>6.548770</td>\n",
       "      <td>42.886388</td>\n",
       "    </tr>\n",
       "    <tr>\n",
       "      <th>3</th>\n",
       "      <td>Ketapril</td>\n",
       "      <td>55.235638</td>\n",
       "      <td>53.698743</td>\n",
       "      <td>0.603860</td>\n",
       "      <td>8.257659</td>\n",
       "      <td>68.188930</td>\n",
       "    </tr>\n",
       "    <tr>\n",
       "      <th>4</th>\n",
       "      <td>Naftisol</td>\n",
       "      <td>54.331565</td>\n",
       "      <td>52.509285</td>\n",
       "      <td>0.596466</td>\n",
       "      <td>8.112811</td>\n",
       "      <td>65.817708</td>\n",
       "    </tr>\n",
       "    <tr>\n",
       "      <th>5</th>\n",
       "      <td>Placebo</td>\n",
       "      <td>54.033581</td>\n",
       "      <td>52.288934</td>\n",
       "      <td>0.581331</td>\n",
       "      <td>7.799368</td>\n",
       "      <td>60.830138</td>\n",
       "    </tr>\n",
       "    <tr>\n",
       "      <th>6</th>\n",
       "      <td>Propriva</td>\n",
       "      <td>52.458254</td>\n",
       "      <td>50.854632</td>\n",
       "      <td>0.540135</td>\n",
       "      <td>6.615279</td>\n",
       "      <td>43.761912</td>\n",
       "    </tr>\n",
       "    <tr>\n",
       "      <th>7</th>\n",
       "      <td>Ramicane</td>\n",
       "      <td>40.216745</td>\n",
       "      <td>40.673236</td>\n",
       "      <td>0.320955</td>\n",
       "      <td>4.835669</td>\n",
       "      <td>23.383692</td>\n",
       "    </tr>\n",
       "    <tr>\n",
       "      <th>8</th>\n",
       "      <td>Stelasyn</td>\n",
       "      <td>54.233149</td>\n",
       "      <td>52.431737</td>\n",
       "      <td>0.573111</td>\n",
       "      <td>7.689090</td>\n",
       "      <td>59.122106</td>\n",
       "    </tr>\n",
       "    <tr>\n",
       "      <th>9</th>\n",
       "      <td>Zoniferol</td>\n",
       "      <td>53.236507</td>\n",
       "      <td>51.818479</td>\n",
       "      <td>0.516398</td>\n",
       "      <td>6.947423</td>\n",
       "      <td>48.266689</td>\n",
       "    </tr>\n",
       "  </tbody>\n",
       "</table>\n",
       "</div>"
      ],
      "text/plain": [
       "   Drug Name  Mean Tumor Size  Median Tumor Size  Tumor Size SEM  \\\n",
       "0  Capomulin        40.675741          41.557809        0.329346   \n",
       "1   Ceftamin        52.591172          51.776157        0.469821   \n",
       "2  Infubinol        52.884795          51.820584        0.492236   \n",
       "3   Ketapril        55.235638          53.698743        0.603860   \n",
       "4   Naftisol        54.331565          52.509285        0.596466   \n",
       "5    Placebo        54.033581          52.288934        0.581331   \n",
       "6   Propriva        52.458254          50.854632        0.540135   \n",
       "7   Ramicane        40.216745          40.673236        0.320955   \n",
       "8   Stelasyn        54.233149          52.431737        0.573111   \n",
       "9  Zoniferol        53.236507          51.818479        0.516398   \n",
       "\n",
       "   Tumor Size Stddev  Tumor Size Variance  \n",
       "0           4.983904            24.839296  \n",
       "1           6.250556            39.069446  \n",
       "2           6.548770            42.886388  \n",
       "3           8.257659            68.188930  \n",
       "4           8.112811            65.817708  \n",
       "5           7.799368            60.830138  \n",
       "6           6.615279            43.761912  \n",
       "7           4.835669            23.383692  \n",
       "8           7.689090            59.122106  \n",
       "9           6.947423            48.266689  "
      ]
     },
     "execution_count": 2,
     "metadata": {},
     "output_type": "execute_result"
    }
   ],
   "source": [
    "# Generate a summary statistics table of mean, median, variance, standard deviation, and SEM of the tumor volume for each regimen\n",
    "\n",
    "# Use groupby and summary statistical methods to calculate the following properties of each drug regimen: \n",
    "# mean, median, variance, standard deviation, and SEM of the tumor volume. \n",
    "# Assemble the resulting series into a single summary dataframe.\n",
    "#print(complete_study_data[\"Drug Regimen\"].value_counts())\n",
    "\n",
    "summary_statistics_df = pd.DataFrame()\n",
    "study_regimen_groups = complete_study_data.groupby(\"Drug Regimen\")\n",
    "#print(study_regimen_groups)\n",
    "\n",
    "for name,group in study_regimen_groups:\n",
    "#print(group[\"Tumor Volume (mm3)\"].mean())\n",
    "#print(group[\"Tumor Volume (mm3)\"].median())\n",
    "#print(np.var(group[\"Tumor Volume (mm3)\"]))\n",
    "#print(np.std(group[\"Tumor Volume (mm3)\"]))    \n",
    "    drug_data = {\"Drug Name\":name,\n",
    "                 \"Mean Tumor Size\":group[\"Tumor Volume (mm3)\"].mean(),\n",
    "                 \"Median Tumor Size\":group[\"Tumor Volume (mm3)\"].median(),\n",
    "                 \"Tumor Size Variance\":np.var(group[\"Tumor Volume (mm3)\"]),\n",
    "                 \"Tumor Size Stddev\":np.std(group[\"Tumor Volume (mm3)\"]),\n",
    "                 \"Tumor Size SEM\": st.sem(group[\"Tumor Volume (mm3)\"])\n",
    "                }\n",
    "    #print(drug_data)\n",
    "    summary_statistics_df = summary_statistics_df.append(drug_data,ignore_index = True)\n",
    "    \n",
    "summary_statistics_df"
   ]
  },
  {
   "cell_type": "code",
   "execution_count": 3,
   "metadata": {},
   "outputs": [],
   "source": [
    "# Using the aggregation method, produce the same summary statistics in a single line\n"
   ]
  },
  {
   "cell_type": "markdown",
   "metadata": {},
   "source": [
    "## Bar and Pie Charts"
   ]
  },
  {
   "cell_type": "code",
   "execution_count": 4,
   "metadata": {},
   "outputs": [
    {
     "data": {
      "image/png": "[encoded data removed]",
      "text/plain": [
       "<Figure size 1440x360 with 1 Axes>"
      ]
     },
     "metadata": {
      "needs_background": "light"
     },
     "output_type": "display_data"
    }
   ],
   "source": [
    "# Generate a bar plot showing the total number of measurements taken on each drug regimen using pandas.\n",
    "drug_regimen_counts = pd.DataFrame([complete_study_data[\"Drug Regimen\"].value_counts()])\n",
    "drug_regimen_counts\n",
    "drug_regimen_counts.plot(kind = \"barh\", figsize=(20,5))\n",
    "plt.title(\"Total measurements per regimen\")\n",
    "\n",
    "plt.show()"
   ]
  },
  {
   "cell_type": "code",
   "execution_count": 5,
   "metadata": {
    "scrolled": true
   },
   "outputs": [
    {
     "data": {
      "image/png": "[encoded data removed]",
      "text/plain": [
       "<Figure size 432x288 with 1 Axes>"
      ]
     },
     "metadata": {
      "needs_background": "light"
     },
     "output_type": "display_data"
    }
   ],
   "source": [
    "# Generate a bar plot showing the total number of measurements taken on each drug regimen using pyplot.\n",
    "p = plt.hist(complete_study_data[\"Drug Regimen\"])\n",
    "plt.xticks(rotation='vertical')\n",
    "\n",
    "plt.show()"
   ]
  },
  {
   "cell_type": "code",
   "execution_count": 6,
   "metadata": {
    "scrolled": true
   },
   "outputs": [
    {
     "data": {
      "text/plain": [
       "Male      125\n",
       "Female    124\n",
       "Name: Sex, dtype: int64"
      ]
     },
     "execution_count": 6,
     "metadata": {},
     "output_type": "execute_result"
    }
   ],
   "source": [
    "#get Mouse sex counts\n",
    "#group by mouseId, then get sex of each mouse\n",
    "mouseId_groups = complete_study_data.groupby(\"Mouse ID\")  \n",
    "uniqueMouse_SexData = pd.DataFrame()\n",
    "for name,group in mouseId_groups:\n",
    "    uniqueMouse_SexData = uniqueMouse_SexData.append(group.iloc[0,5:6])\n",
    "\n",
    "uniqueMouse_SexCount = uniqueMouse_SexData[\"Sex\"].value_counts()\n",
    "uniqueMouse_SexCount"
   ]
  },
  {
   "cell_type": "code",
   "execution_count": 7,
   "metadata": {},
   "outputs": [
    {
     "name": "stdout",
     "output_type": "stream",
     "text": [
      "        counts\n",
      "Sex           \n",
      "Male       125\n",
      "Female     124\n"
     ]
    },
    {
     "data": {
      "text/plain": [
       "<matplotlib.axes._subplots.AxesSubplot at 0x212a26d4fd0>"
      ]
     },
     "execution_count": 7,
     "metadata": {},
     "output_type": "execute_result"
    },
    {
     "data": {
      "image/png": "[encoded data removed]",
      "text/plain": [
       "<Figure size 432x288 with 1 Axes>"
      ]
     },
     "metadata": {},
     "output_type": "display_data"
    }
   ],
   "source": [
    "# Generate a pie plot showing the distribution of female versus male mice using pandas\n",
    "\n",
    "sex_df = uniqueMouse_SexData[\"Sex\"].value_counts().rename_axis('Sex').reset_index(name='counts')\n",
    "sex_df = sex_df.set_index('Sex')\n",
    "print (sex_df)\n",
    "colors = [\"blue\",\"maroon\"]\n",
    "explode = (.05,0)\n",
    "sex_df.plot(kind = \"pie\",y='counts',colors = colors, explode = explode)\n"
   ]
  },
  {
   "cell_type": "code",
   "execution_count": 8,
   "metadata": {},
   "outputs": [
    {
     "data": {
      "text/plain": [
       "(-1.1427447393433872,\n",
       " 1.1238514752109816,\n",
       " -1.1498793479914102,\n",
       " 1.1230714904449075)"
      ]
     },
     "execution_count": 8,
     "metadata": {},
     "output_type": "execute_result"
    },
    {
     "data": {
      "image/png": "[encoded data removed]",
      "text/plain": [
       "<Figure size 432x288 with 1 Axes>"
      ]
     },
     "metadata": {},
     "output_type": "display_data"
    }
   ],
   "source": [
    "# Generate a pie plot showing the distribution of female versus male mice using pyplot\n",
    "\n",
    "explode = (0.1, 0, 0, 0)\n",
    "colors = [\"cyan\",\"pink\"]\n",
    "explode = (.05,0)\n",
    "labels = [\"Male\", \"Female\"]\n",
    "plt.pie(uniqueMouse_SexCount,colors = colors,labels = labels,  explode = explode,\n",
    "        autopct=\"%1.1f%%\", shadow=True, startangle=140)\n",
    "plt.axis(\"equal\")\n"
   ]
  },
  {
   "cell_type": "markdown",
   "metadata": {},
   "source": [
    "## Quartiles, Outliers and Boxplots"
   ]
  },
  {
   "cell_type": "code",
   "execution_count": 9,
   "metadata": {},
   "outputs": [
    {
     "data": {
      "text/html": [
       "<div>\n",
       "<style scoped>\n",
       "    .dataframe tbody tr th:only-of-type {\n",
       "        vertical-align: middle;\n",
       "    }\n",
       "\n",
       "    .dataframe tbody tr th {\n",
       "        vertical-align: top;\n",
       "    }\n",
       "\n",
       "    .dataframe thead th {\n",
       "        text-align: right;\n",
       "    }\n",
       "</style>\n",
       "<table border=\"1\" class=\"dataframe\">\n",
       "  <thead>\n",
       "    <tr style=\"text-align: right;\">\n",
       "      <th></th>\n",
       "      <th>Age_months</th>\n",
       "      <th>Drug Regimen</th>\n",
       "      <th>Metastatic Sites</th>\n",
       "      <th>Mouse ID</th>\n",
       "      <th>Sex</th>\n",
       "      <th>Timepoint</th>\n",
       "      <th>Tumor Volume (mm3)</th>\n",
       "      <th>Weight (g)</th>\n",
       "    </tr>\n",
       "  </thead>\n",
       "  <tbody>\n",
       "    <tr>\n",
       "      <th>0</th>\n",
       "      <td>9.0</td>\n",
       "      <td>Capomulin</td>\n",
       "      <td>2.0</td>\n",
       "      <td>b128</td>\n",
       "      <td>Female</td>\n",
       "      <td>45.0</td>\n",
       "      <td>38.982878</td>\n",
       "      <td>22.0</td>\n",
       "    </tr>\n",
       "    <tr>\n",
       "      <th>1</th>\n",
       "      <td>7.0</td>\n",
       "      <td>Capomulin</td>\n",
       "      <td>0.0</td>\n",
       "      <td>b742</td>\n",
       "      <td>Male</td>\n",
       "      <td>45.0</td>\n",
       "      <td>38.939633</td>\n",
       "      <td>21.0</td>\n",
       "    </tr>\n",
       "    <tr>\n",
       "      <th>2</th>\n",
       "      <td>16.0</td>\n",
       "      <td>Capomulin</td>\n",
       "      <td>0.0</td>\n",
       "      <td>f966</td>\n",
       "      <td>Male</td>\n",
       "      <td>20.0</td>\n",
       "      <td>30.485985</td>\n",
       "      <td>17.0</td>\n",
       "    </tr>\n",
       "    <tr>\n",
       "      <th>3</th>\n",
       "      <td>3.0</td>\n",
       "      <td>Capomulin</td>\n",
       "      <td>1.0</td>\n",
       "      <td>g288</td>\n",
       "      <td>Male</td>\n",
       "      <td>45.0</td>\n",
       "      <td>37.074024</td>\n",
       "      <td>19.0</td>\n",
       "    </tr>\n",
       "    <tr>\n",
       "      <th>4</th>\n",
       "      <td>22.0</td>\n",
       "      <td>Capomulin</td>\n",
       "      <td>2.0</td>\n",
       "      <td>g316</td>\n",
       "      <td>Female</td>\n",
       "      <td>45.0</td>\n",
       "      <td>40.159220</td>\n",
       "      <td>22.0</td>\n",
       "    </tr>\n",
       "    <tr>\n",
       "      <th>...</th>\n",
       "      <td>...</td>\n",
       "      <td>...</td>\n",
       "      <td>...</td>\n",
       "      <td>...</td>\n",
       "      <td>...</td>\n",
       "      <td>...</td>\n",
       "      <td>...</td>\n",
       "      <td>...</td>\n",
       "    </tr>\n",
       "    <tr>\n",
       "      <th>95</th>\n",
       "      <td>1.0</td>\n",
       "      <td>Ramicane</td>\n",
       "      <td>0.0</td>\n",
       "      <td>s508</td>\n",
       "      <td>Male</td>\n",
       "      <td>45.0</td>\n",
       "      <td>30.276232</td>\n",
       "      <td>17.0</td>\n",
       "    </tr>\n",
       "    <tr>\n",
       "      <th>96</th>\n",
       "      <td>18.0</td>\n",
       "      <td>Ramicane</td>\n",
       "      <td>3.0</td>\n",
       "      <td>u196</td>\n",
       "      <td>Male</td>\n",
       "      <td>45.0</td>\n",
       "      <td>40.667713</td>\n",
       "      <td>25.0</td>\n",
       "    </tr>\n",
       "    <tr>\n",
       "      <th>97</th>\n",
       "      <td>5.0</td>\n",
       "      <td>Ramicane</td>\n",
       "      <td>0.0</td>\n",
       "      <td>w678</td>\n",
       "      <td>Female</td>\n",
       "      <td>5.0</td>\n",
       "      <td>43.166373</td>\n",
       "      <td>24.0</td>\n",
       "    </tr>\n",
       "    <tr>\n",
       "      <th>98</th>\n",
       "      <td>19.0</td>\n",
       "      <td>Ramicane</td>\n",
       "      <td>0.0</td>\n",
       "      <td>y449</td>\n",
       "      <td>Male</td>\n",
       "      <td>15.0</td>\n",
       "      <td>44.183451</td>\n",
       "      <td>24.0</td>\n",
       "    </tr>\n",
       "    <tr>\n",
       "      <th>99</th>\n",
       "      <td>11.0</td>\n",
       "      <td>Ramicane</td>\n",
       "      <td>0.0</td>\n",
       "      <td>z578</td>\n",
       "      <td>Male</td>\n",
       "      <td>45.0</td>\n",
       "      <td>30.638696</td>\n",
       "      <td>16.0</td>\n",
       "    </tr>\n",
       "  </tbody>\n",
       "</table>\n",
       "<p>100 rows × 8 columns</p>\n",
       "</div>"
      ],
      "text/plain": [
       "    Age_months Drug Regimen  Metastatic Sites Mouse ID     Sex  Timepoint  \\\n",
       "0          9.0    Capomulin               2.0     b128  Female       45.0   \n",
       "1          7.0    Capomulin               0.0     b742    Male       45.0   \n",
       "2         16.0    Capomulin               0.0     f966    Male       20.0   \n",
       "3          3.0    Capomulin               1.0     g288    Male       45.0   \n",
       "4         22.0    Capomulin               2.0     g316  Female       45.0   \n",
       "..         ...          ...               ...      ...     ...        ...   \n",
       "95         1.0     Ramicane               0.0     s508    Male       45.0   \n",
       "96        18.0     Ramicane               3.0     u196    Male       45.0   \n",
       "97         5.0     Ramicane               0.0     w678  Female        5.0   \n",
       "98        19.0     Ramicane               0.0     y449    Male       15.0   \n",
       "99        11.0     Ramicane               0.0     z578    Male       45.0   \n",
       "\n",
       "    Tumor Volume (mm3)  Weight (g)  \n",
       "0            38.982878        22.0  \n",
       "1            38.939633        21.0  \n",
       "2            30.485985        17.0  \n",
       "3            37.074024        19.0  \n",
       "4            40.159220        22.0  \n",
       "..                 ...         ...  \n",
       "95           30.276232        17.0  \n",
       "96           40.667713        25.0  \n",
       "97           43.166373        24.0  \n",
       "98           44.183451        24.0  \n",
       "99           30.638696        16.0  \n",
       "\n",
       "[100 rows x 8 columns]"
      ]
     },
     "execution_count": 9,
     "metadata": {},
     "output_type": "execute_result"
    }
   ],
   "source": [
    "# Calculate the final tumor volume of each mouse across four of the treatment regimens:  \n",
    "# Capomulin, Ramicane, Infubinol, and Ceftamin\n",
    "promisingDrug_data = complete_study_data[complete_study_data[\"Drug Regimen\"].isin(['Capomulin', 'Ramicane', 'Infubinol','Ceftamin'])]\n",
    "complete_response_data_df = pd.DataFrame()\n",
    "Regimen_groups = promisingDrug_data.groupby(\"Drug Regimen\")\n",
    "for name,group in Regimen_groups:\n",
    "    #print(\">>>\" + name)\n",
    "    Mouse_groups = group.groupby(\"Mouse ID\")\n",
    "    for name,group in Mouse_groups:\n",
    "            #print(name)\n",
    "            #capture the max Timepoint for each mouse - some did not complete the study\n",
    "            #finalTumor size = tumor Vol where timepoint.max\n",
    "            maxTimepoint = group[\"Timepoint\"].max()\n",
    "            finalTumorSizeRow = group.loc[group[\"Timepoint\"] == maxTimepoint]\n",
    "            finalTumorSize = finalTumorSizeRow.iloc[0]['Tumor Volume (mm3)']\n",
    "#             mouse_response_data = {\"Mouse ID\":name,\n",
    "#                  \"Tumor Volume (mm3)\":finalTumorSize,\n",
    "#                  \"Timepoint\":maxTimepoint,\n",
    "#                  \"Drug Regimen\":group[\"Drug Regimen\"].iloc[0]\n",
    "#                 } \n",
    "      \n",
    "            #complete_response_data_df = complete_response_data_df.append(mouse_response_data,ignore_index = True)    \n",
    "            complete_response_data_df = complete_response_data_df.append(finalTumorSizeRow.iloc[0],ignore_index = True)    \n",
    "    \n",
    "\n",
    "# Start by getting the last (greatest) timepoint for each mouse\n",
    "\n",
    "# complete_response_data_df[\"Timepoint\"].value_counts()\n",
    "# complete_response_data_df.loc[complete_response_data_df['Drug Regimen'] == 'Placebo',:]\n",
    "complete_response_data_df"
   ]
  },
  {
   "cell_type": "code",
   "execution_count": 36,
   "metadata": {},
   "outputs": [
    {
     "data": {
      "image/png": "[encoded data removed]",
      "text/plain": [
       "<Figure size 432x288 with 1 Axes>"
      ]
     },
     "metadata": {
      "needs_background": "light"
     },
     "output_type": "display_data"
    }
   ],
   "source": [
    "# calculate the mortality rate based on the number of mice at each timepoint\n",
    "mice_survival_groups = promisingDrug_data.groupby(\"Drug Regimen\")\n",
    "timepoint_list = complete_response_data_df[\"Timepoint\"].value_counts()\n",
    "drug_timepoint_mouse_counts = pd.DataFrame()\n",
    "#for name,group in mice_survival_groups:\n",
    "for name,group in mice_survival_groups:\n",
    "    mice_count = group[\"Timepoint\"].value_counts()\n",
    "    mouse_count_df = group[\"Timepoint\"].value_counts(sort=True).rename_axis('unique_values').reset_index(name='counts')\n",
    "    drug_timepoint_mouse_counts = drug_timepoint_mouse_counts.append({\"Drug Regimen\":name, \"Counts\": mouse_count_df},ignore_index = True)\n",
    "    mouse_count_df = mouse_count_df.sort_values(by =[\"unique_values\"])\n",
    "    #print(mouse_count_df)\n",
    "\n",
    "    plt.plot(mouse_count_df['unique_values'],mouse_count_df['counts'],label = name)\n",
    "    \n",
    "plt.ylim(0,27)\n",
    "plt.xlim(0,50)\n",
    "plt.title(\"Number of Mice at Study Timepoints\")\n",
    "plt.xlabel(\"Timepoints\")\n",
    "plt.ylabel(\"Number of Mice\")\n",
    "plt.legend()\n",
    "plt.show()"
   ]
  },
  {
   "cell_type": "code",
   "execution_count": 20,
   "metadata": {},
   "outputs": [
    {
     "name": "stdout",
     "output_type": "stream",
     "text": [
      "      Tumor Volume (mm3)\n",
      "0.25           32.377357\n",
      "0.50           38.125164\n",
      "0.75           40.159220\n",
      "The IQR for Capomulin is 7.781863460000004mm\n",
      "Outliers would be smaller than 26.45236920999999(mm3) or larger than 49.797959590000005(mm3).\n",
      "Outliers Exist\n",
      "16    23.343598\n",
      "Name: Tumor Volume (mm3), dtype: float64\n",
      "      Tumor Volume (mm3)\n",
      "0.25           48.722078\n",
      "0.50           59.851956\n",
      "0.75           64.299830\n",
      "The IQR for Ceftamin is 15.577752179999997mm\n",
      "Outliers would be smaller than 36.48532725(mm3) or larger than 83.21858379(mm3).\n",
      "      Tumor Volume (mm3)\n",
      "0.25           54.048608\n",
      "0.50           60.165180\n",
      "0.75           65.525743\n",
      "The IQR for Infubinol is 11.477135160000003mm\n",
      "Outliers would be smaller than 42.94947772(mm3) or larger than 77.3808832(mm3).\n",
      "Outliers Exist\n",
      "55    36.321346\n",
      "Name: Tumor Volume (mm3), dtype: float64\n",
      "      Tumor Volume (mm3)\n",
      "0.25           31.560470\n",
      "0.50           36.561652\n",
      "0.75           40.659006\n",
      "The IQR for Ramicane is 9.098536719999998mm\n",
      "Outliers would be smaller than 22.91384721(mm3) or larger than 50.209457369999996(mm3).\n",
      "Outliers Exist\n",
      "88    22.050126\n",
      "Name: Tumor Volume (mm3), dtype: float64\n"
     ]
    },
    {
     "data": {
      "image/png": "[encoded data removed]",
      "text/plain": [
       "<Figure size 432x288 with 1 Axes>"
      ]
     },
     "metadata": {
      "needs_background": "light"
     },
     "output_type": "display_data"
    }
   ],
   "source": [
    "# Put treatments into a list for for loop (and later for plot labels)\n",
    "treatments = ['Capomulin', 'Ramicane', 'Infubinol','Ceftamin']\n",
    "\n",
    "# Create empty list to fill with tumor vol data (for plotting)\n",
    "volume_arrays = []\n",
    "\n",
    "# Calculate the IQR and quantitatively determine if there are any potential outliers.    \n",
    "# Locate the rows which contain mice on each drug and get the tumor volumes\n",
    "\n",
    "drug_response_groups = complete_response_data_df.groupby(\"Drug Regimen\") \n",
    "\n",
    "for name,group in drug_response_groups:\n",
    "    # Determine outliers using upper and lower bounds\n",
    "    volumes = group[\"Tumor Volume (mm3)\"]\n",
    "    volume_arrays.append(volumes)\n",
    "    temp_df = pd.DataFrame(group,columns=['Tumor Volume (mm3)'])\n",
    "    quants = temp_df.quantile([.25,.5,.75],axis = 0)\n",
    "    print(quants)\n",
    "    IQR = quants.iloc[2,0] - quants.iloc[0,0]\n",
    "    print(f\"The IQR for {name} is {IQR}mm\")\n",
    "    low_outlier = quants.iloc[1,0]- (IQR * 1.5)\n",
    "    high_outlier = quants.iloc[1,0] + (IQR * 1.5)\n",
    "    print(f\"Outliers would be smaller than {low_outlier}(mm3) or larger than {high_outlier}(mm3).\")\n",
    "    outliers_df = group.loc[(group['Tumor Volume (mm3)'] > high_outlier) | (group['Tumor Volume (mm3)'] < low_outlier)]\n",
    "    if (len(outliers_df) > 0):\n",
    "        print(\"Outliers Exist\")\n",
    "        print(outliers_df['Tumor Volume (mm3)'])\n",
    "\n",
    "x_axis = np.arange(0, len(drug_response_groups), 1) + 1\n",
    "fig1, (ax1) = plt.subplots()    \n",
    "ax1.set_title('Final Tumor Volumes for Drug Regimens')\n",
    "ax1.set_ylabel('Tumor Volume (mm3)')\n",
    "ax1.set_ylim(0,80)\n",
    "ax1.boxplot(volume_arrays, sym='+',flierprops = dict(markeredgecolor=\"red\"))\n",
    "plt.xticks([1, 2, 3, 4,5], treatments)\n",
    "plt.show()"
   ]
  },
  {
   "cell_type": "code",
   "execution_count": 12,
   "metadata": {},
   "outputs": [
    {
     "name": "stdout",
     "output_type": "stream",
     "text": [
      "      Tumor Volume (mm3)\n",
      "0.25           32.377357\n",
      "0.50           37.311846\n",
      "0.75           40.159220\n",
      "The IQR for Capomulin is 7.781863460000004(mm3)\n",
      "Outliers would be smaller than 25.639050579999992(mm3) or larger than 48.98464096000001(mm3).\n",
      "Outliers Exist\n",
      "16    23.343598\n",
      "Name: Tumor Volume (mm3), dtype: float64\n",
      "      Tumor Volume (mm3)\n",
      "0.25           61.433892\n",
      "0.50           64.299830\n",
      "0.75           67.527482\n",
      "The IQR for Ceftamin is 6.093590140000003(mm3)\n",
      "Outliers would be smaller than 55.15944481999999(mm3) or larger than 73.44021524(mm3).\n",
      "      Tumor Volume (mm3)\n",
      "0.25           62.754451\n",
      "0.50           66.083066\n",
      "0.75           67.685569\n",
      "The IQR for Infubinol is 4.9311172099999965(mm3)\n",
      "Outliers would be smaller than 58.686390075000006(mm3) or larger than 73.479741705(mm3).\n",
      "      Tumor Volume (mm3)\n",
      "0.25           30.981175\n",
      "0.50           34.848627\n",
      "0.75           38.508305\n",
      "The IQR for Ramicane is 7.527130082499998(mm3)\n",
      "Outliers would be smaller than 23.557932176250006(mm3) or larger than 46.13932242375(mm3).\n",
      "Outliers Exist\n",
      "88    22.050126\n",
      "Name: Tumor Volume (mm3), dtype: float64\n"
     ]
    },
    {
     "data": {
      "image/png": "[encoded data removed]",
      "text/plain": [
       "<Figure size 432x288 with 1 Axes>"
      ]
     },
     "metadata": {
      "needs_background": "light"
     },
     "output_type": "display_data"
    }
   ],
   "source": [
    "# Create empty list to fill with tumor vol data (for plotting)\n",
    "volume_arrays = []\n",
    "\n",
    "complete_response_data_without_droppouts_df = complete_response_data_df.loc[complete_response_data_df[\"Timepoint\"] == 45]\n",
    "# Calculate the IQR and quantitatively determine if there are any potential outliers. \n",
    "# Create empty list to fill with tumor vol data (for plotting)\n",
    "# Calculate the IQR and quantitatively determine if there are any potential outliers.    \n",
    "# Locate the rows which contain mice on each drug and get the tumor volumes\n",
    "\n",
    "drug_response_groups = complete_response_data_without_droppouts_df.groupby(\"Drug Regimen\")  \n",
    "\n",
    "for name,group in drug_response_groups:\n",
    "    volumes = group[\"Tumor Volume (mm3)\"]\n",
    "    volume_arrays.append(volumes)\n",
    "    temp_df = pd.DataFrame(group,columns=['Tumor Volume (mm3)'])\n",
    "    quants = temp_df.quantile([.25,.5,.75],axis = 0)\n",
    "    print(quants)\n",
    "    IQR = quants.iloc[2,0] - quants.iloc[0,0]\n",
    "    print(f\"The IQR for {name} is {IQR}(mm3)\")\n",
    "    low_outlier = quants.iloc[1,0]- (IQR * 1.5)\n",
    "    high_outlier = quants.iloc[1,0] + (IQR * 1.5)\n",
    "    print(f\"Outliers would be smaller than {low_outlier}(mm3) or larger than {high_outlier}(mm3).\")\n",
    "    outliers_df = group.loc[(group['Tumor Volume (mm3)'] > high_outlier) | (group['Tumor Volume (mm3)'] < low_outlier)]\n",
    "    if (len(outliers_df) > 0):\n",
    "        print(\"Outliers Exist\")\n",
    "        print(outliers_df['Tumor Volume (mm3)'])\n",
    "\n",
    "\n",
    "x_axis = np.arange(0, len(drug_response_groups), 1) + 1\n",
    "fig1, (ax1) = plt.subplots()    \n",
    "ax1.set_title('Tumor Volumes for Drug Regimens')\n",
    "ax1.set_ylabel('Tumor Volume (mm3)')\n",
    "ax1.set_ylim(10,80)\n",
    "ax1.boxplot(volume_arrays, sym='+',flierprops = dict(markeredgecolor=\"red\"))\n",
    "plt.xticks([1, 2, 3, 4,5], treatments)\n",
    "plt.show()"
   ]
  },
  {
   "cell_type": "code",
   "execution_count": 13,
   "metadata": {},
   "outputs": [],
   "source": [
    "# Generate a SINGLE box plot of the final tumor volume of each mouse across four regimens of interest\n"
   ]
  },
  {
   "cell_type": "markdown",
   "metadata": {},
   "source": [
    "## Line and Scatter Plots"
   ]
  },
  {
   "cell_type": "code",
   "execution_count": 14,
   "metadata": {},
   "outputs": [
    {
     "data": {
      "image/png": "[encoded data removed]",
      "text/plain": [
       "<Figure size 432x288 with 1 Axes>"
      ]
     },
     "metadata": {
      "needs_background": "light"
     },
     "output_type": "display_data"
    }
   ],
   "source": [
    "# Generate a line plot of tumor volume vs. time point for a mouse treated with Capomulin\n",
    "capomulin_mice_df = pd.DataFrame(complete_study_data.loc[complete_study_data['Drug Regimen'] == \"Capomulin\"] )\n",
    "capomulin_mice_df\n",
    "#use m601 as an example\n",
    "m601_data = pd.DataFrame(capomulin_mice_df.loc[capomulin_mice_df['Mouse ID'] == 'm601' ])\n",
    "plt.title(\"Mouse m601, Timepoint vs Tumor Volume\")\n",
    "plt.xlabel(\"Timepoint\")\n",
    "plt.ylabel(\"Tumor Vol in (mm)\")\n",
    "\n",
    "\n",
    "\n",
    "plt.plot(m601_data[\"Timepoint\"], m601_data[\"Tumor Volume (mm3)\"], marker=\"o\", color=\"red\", linewidth=1)\n",
    "plt.show()"
   ]
  },
  {
   "cell_type": "code",
   "execution_count": 15,
   "metadata": {},
   "outputs": [
    {
     "data": {
      "text/plain": [
       "<matplotlib.collections.PathCollection at 0x212a2b6faf0>"
      ]
     },
     "execution_count": 15,
     "metadata": {},
     "output_type": "execute_result"
    },
    {
     "data": {
      "image/png": "[encoded data removed]",
      "text/plain": [
       "<Figure size 432x288 with 1 Axes>"
      ]
     },
     "metadata": {
      "needs_background": "light"
     },
     "output_type": "display_data"
    }
   ],
   "source": [
    "# Generate a scatter plot of average tumor volume vs. mouse weight for the Capomulin regimen\n",
    "capomulin_mice_df\n",
    "#\n",
    "mouse_weight_tumorVol = pd.DataFrame()\n",
    "mouse_measurement_groups = capomulin_mice_df.groupby(\"Mouse ID\") \n",
    "for name,group in mouse_measurement_groups:\n",
    "    singleMouse_data = {\"Mouse ID\":name, \"Mean Tumor Size\":group[\"Tumor Volume (mm3)\"].mean(),\"Weight (g)\":group[\"Weight (g)\"].iloc[0]}\n",
    "    mouse_weight_tumorVol = mouse_weight_tumorVol.append(singleMouse_data,ignore_index = True)\n",
    "     \n",
    "mouse_weight_tumorVol\n",
    "\n",
    "plt.scatter(mouse_weight_tumorVol[\"Weight (g)\"], mouse_weight_tumorVol[\"Mean Tumor Size\"], marker=\"o\", facecolors=\"red\", edgecolors=\"black\",\n",
    "             alpha=0.75)"
   ]
  },
  {
   "cell_type": "markdown",
   "metadata": {},
   "source": [
    "## Correlation and Regression"
   ]
  },
  {
   "cell_type": "code",
   "execution_count": 16,
   "metadata": {},
   "outputs": [
    {
     "name": "stdout",
     "output_type": "stream",
     "text": [
      "The correlation between both factors is 0.84\n"
     ]
    },
    {
     "data": {
      "text/plain": [
       "[<matplotlib.lines.Line2D at 0x212a2ae8430>]"
      ]
     },
     "execution_count": 16,
     "metadata": {},
     "output_type": "execute_result"
    },
    {
     "data": {
      "image/png": "[encoded data removed]",
      "text/plain": [
       "<Figure size 432x288 with 1 Axes>"
      ]
     },
     "metadata": {
      "needs_background": "light"
     },
     "output_type": "display_data"
    }
   ],
   "source": [
    "# Calculate the correlation coefficient and linear regression model \n",
    "# for mouse weight and average tumor volume for the Capomulin regimen\n",
    "correlation = st.pearsonr(mouse_weight_tumorVol[\"Weight (g)\"],mouse_weight_tumorVol[\"Mean Tumor Size\"])\n",
    "print(f\"The correlation between both factors is {round(correlation[0],2)}\")\n",
    "\n",
    "x_values = mouse_weight_tumorVol[\"Weight (g)\"]\n",
    "y_values = mouse_weight_tumorVol[\"Mean Tumor Size\"]\n",
    "(slope, intercept, rvalue, pvalue, stderr) = st.linregress(x_values, y_values)\n",
    "regress_values = x_values * slope + intercept\n",
    "line_eq = \"y = \" + str(round(slope,2)) + \"x + \" + str(round(intercept,2))\n",
    "plt.scatter(x_values,y_values)\n",
    "plt.annotate(line_eq,(20,36),fontsize=15,color=\"red\")\n",
    "plt.plot(x_values,regress_values,\"r-\")"
   ]
  },
  {
   "cell_type": "code",
   "execution_count": null,
   "metadata": {},
   "outputs": [],
   "source": []
  },
  {
   "cell_type": "code",
   "execution_count": null,
   "metadata": {},
   "outputs": [],
   "source": []
  }
 ],
 "metadata": {
  "anaconda-cloud": {},
  "kernelspec": {
   "display_name": "Python 3",
   "language": "python",
   "name": "python3"
  },
  "language_info": {
   "codemirror_mode": {
    "name": "ipython",
    "version": 3
   },
   "file_extension": ".py",
   "mimetype": "text/x-python",
   "name": "python",
   "nbconvert_exporter": "python",
   "pygments_lexer": "ipython3",
   "version": "3.8.3"
  }
 },
 "nbformat": 4,
 "nbformat_minor": 4
}
